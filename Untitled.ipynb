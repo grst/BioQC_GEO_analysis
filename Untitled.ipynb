{
 "cells": [
  {
   "cell_type": "code",
   "execution_count": 1,
   "metadata": {
    "collapsed": false
   },
   "outputs": [],
   "source": [
    "import ftplib\n",
    "import ftptool\n",
    "from multiprocessing import Pool"
   ]
  },
  {
   "cell_type": "code",
   "execution_count": 2,
   "metadata": {
    "collapsed": false
   },
   "outputs": [],
   "source": [
    "ftp = ftptool.FTPHost.connect(\"ftp.ncbi.nlm.nih.gov\", user=\"anonymous\")"
   ]
  },
  {
   "cell_type": "code",
   "execution_count": 3,
   "metadata": {
    "collapsed": false
   },
   "outputs": [],
   "source": [
    "ftp.current_directory = \"/geo/platforms\""
   ]
  },
  {
   "cell_type": "code",
   "execution_count": 10,
   "metadata": {
    "collapsed": false
   },
   "outputs": [],
   "source": [
    "dirs = ftp.listdir(\"/geo/platforms\")[0]"
   ]
  },
  {
   "cell_type": "code",
   "execution_count": 21,
   "metadata": {
    "collapsed": false
   },
   "outputs": [],
   "source": [
    "with open(\"folders.txt\", 'w') as f:\n",
    "    for d in dirs: \n",
    "        sdirs = ftp.listdir(\"\")\n",
    "    for l in dirs:\n",
    "        f.write(l + \"\\n\")"
   ]
  },
  {
   "cell_type": "code",
   "execution_count": 16,
   "metadata": {
    "collapsed": false
   },
   "outputs": [],
   "source": [
    "def walk_dir(the_dir):\n",
    "    host = ftplib.FTP(\"ftp.ncbi.nlm.nih.gov\")\n",
    "    host.login()\n",
    "    host.set_pasv(False)\n",
    "    srv = ftptool.FTPHost(host)\n",
    "    srv.current_directory = \"/geo/platforms/\"\n",
    "    has_annot = []\n",
    "    for (dirname, sudirs, files) in srv.walk(the_dir):\n",
    "        if \"annot\" in dirname: \n",
    "            has_annot.append(dirname)\n",
    "    return has_annot"
   ]
  },
  {
   "cell_type": "code",
   "execution_count": 18,
   "metadata": {
    "collapsed": false
   },
   "outputs": [],
   "source": [
    "p = Pool(len(dirs))"
   ]
  },
  {
   "cell_type": "code",
   "execution_count": 19,
   "metadata": {
    "collapsed": false
   },
   "outputs": [
    {
     "ename": "error_perm",
     "evalue": "500 RT not understood",
     "output_type": "error",
     "traceback": [
      "\u001b[1;31m---------------------------------------------------------------------------\u001b[0m",
      "\u001b[1;31mRemoteTraceback\u001b[0m                           Traceback (most recent call last)",
      "\u001b[1;31mRemoteTraceback\u001b[0m: \n\"\"\"\nTraceback (most recent call last):\n  File \"/pstore/apps/Anaconda3/2.5.0/lib/python3.5/multiprocessing/pool.py\", line 119, in worker\n    result = (True, func(*args, **kwds))\n  File \"/pstore/apps/Anaconda3/2.5.0/lib/python3.5/multiprocessing/pool.py\", line 44, in mapstar\n    return list(map(*args))\n  File \"<ipython-input-16-9e0dd119ed36>\", line 8, in walk_dir\n    for (dirname, sudirs, files) in srv.walk(the_dir):\n  File \"/pstore/home/sturmg/.local/lib/python3.5/site-packages/ftptool.py\", line 106, in walk\n    for x in self.walk(posixpath.join(directory, subdir)):\n  File \"/pstore/home/sturmg/.local/lib/python3.5/site-packages/ftptool.py\", line 106, in walk\n    for x in self.walk(posixpath.join(directory, subdir)):\n  File \"/pstore/home/sturmg/.local/lib/python3.5/site-packages/ftptool.py\", line 101, in walk\n    (subdirs, files) = self.listdir(directory)\n  File \"/pstore/home/sturmg/.local/lib/python3.5/site-packages/ftptool.py\", line 119, in listdir\n    self.ftp_obj.dir(directory, cb)\n  File \"/pstore/apps/Anaconda3/2.5.0/lib/python3.5/ftplib.py\", line 574, in dir\n    self.retrlines(cmd, func)\n  File \"/pstore/apps/Anaconda3/2.5.0/lib/python3.5/ftplib.py\", line 467, in retrlines\n    with self.transfercmd(cmd) as conn, \\\n  File \"/pstore/apps/Anaconda3/2.5.0/lib/python3.5/ftplib.py\", line 398, in transfercmd\n    return self.ntransfercmd(cmd, rest)[0]\n  File \"/pstore/apps/Anaconda3/2.5.0/lib/python3.5/ftplib.py\", line 379, in ntransfercmd\n    with self.makeport() as sock:\n  File \"/pstore/apps/Anaconda3/2.5.0/lib/python3.5/ftplib.py\", line 327, in makeport\n    resp = self.sendport(host, port)\n  File \"/pstore/apps/Anaconda3/2.5.0/lib/python3.5/ftplib.py\", line 287, in sendport\n    return self.voidcmd(cmd)\n  File \"/pstore/apps/Anaconda3/2.5.0/lib/python3.5/ftplib.py\", line 277, in voidcmd\n    return self.voidresp()\n  File \"/pstore/apps/Anaconda3/2.5.0/lib/python3.5/ftplib.py\", line 250, in voidresp\n    resp = self.getresp()\n  File \"/pstore/apps/Anaconda3/2.5.0/lib/python3.5/ftplib.py\", line 245, in getresp\n    raise error_perm(resp)\nftplib.error_perm: 500 RT not understood\n\"\"\"",
      "\nThe above exception was the direct cause of the following exception:\n",
      "\u001b[1;31merror_perm\u001b[0m                                Traceback (most recent call last)",
      "\u001b[1;32m<ipython-input-19-5fb8ba250e87>\u001b[0m in \u001b[0;36m<module>\u001b[1;34m()\u001b[0m\n\u001b[1;32m----> 1\u001b[1;33m \u001b[0mres\u001b[0m \u001b[1;33m=\u001b[0m \u001b[0mp\u001b[0m\u001b[1;33m.\u001b[0m\u001b[0mmap\u001b[0m\u001b[1;33m(\u001b[0m\u001b[0mwalk_dir\u001b[0m\u001b[1;33m,\u001b[0m \u001b[0mdirs\u001b[0m\u001b[1;33m)\u001b[0m\u001b[1;33m\u001b[0m\u001b[0m\n\u001b[0m",
      "\u001b[1;32m/pstore/apps/Anaconda3/2.5.0/lib/python3.5/multiprocessing/pool.py\u001b[0m in \u001b[0;36mmap\u001b[1;34m(self, func, iterable, chunksize)\u001b[0m\n\u001b[0;32m    258\u001b[0m         \u001b[1;32min\u001b[0m \u001b[0ma\u001b[0m \u001b[0mlist\u001b[0m \u001b[0mthat\u001b[0m \u001b[1;32mis\u001b[0m \u001b[0mreturned\u001b[0m\u001b[1;33m.\u001b[0m\u001b[1;33m\u001b[0m\u001b[0m\n\u001b[0;32m    259\u001b[0m         '''\n\u001b[1;32m--> 260\u001b[1;33m         \u001b[1;32mreturn\u001b[0m \u001b[0mself\u001b[0m\u001b[1;33m.\u001b[0m\u001b[0m_map_async\u001b[0m\u001b[1;33m(\u001b[0m\u001b[0mfunc\u001b[0m\u001b[1;33m,\u001b[0m \u001b[0miterable\u001b[0m\u001b[1;33m,\u001b[0m \u001b[0mmapstar\u001b[0m\u001b[1;33m,\u001b[0m \u001b[0mchunksize\u001b[0m\u001b[1;33m)\u001b[0m\u001b[1;33m.\u001b[0m\u001b[0mget\u001b[0m\u001b[1;33m(\u001b[0m\u001b[1;33m)\u001b[0m\u001b[1;33m\u001b[0m\u001b[0m\n\u001b[0m\u001b[0;32m    261\u001b[0m \u001b[1;33m\u001b[0m\u001b[0m\n\u001b[0;32m    262\u001b[0m     \u001b[1;32mdef\u001b[0m \u001b[0mstarmap\u001b[0m\u001b[1;33m(\u001b[0m\u001b[0mself\u001b[0m\u001b[1;33m,\u001b[0m \u001b[0mfunc\u001b[0m\u001b[1;33m,\u001b[0m \u001b[0miterable\u001b[0m\u001b[1;33m,\u001b[0m \u001b[0mchunksize\u001b[0m\u001b[1;33m=\u001b[0m\u001b[1;32mNone\u001b[0m\u001b[1;33m)\u001b[0m\u001b[1;33m:\u001b[0m\u001b[1;33m\u001b[0m\u001b[0m\n",
      "\u001b[1;32m/pstore/apps/Anaconda3/2.5.0/lib/python3.5/multiprocessing/pool.py\u001b[0m in \u001b[0;36mget\u001b[1;34m(self, timeout)\u001b[0m\n\u001b[0;32m    606\u001b[0m             \u001b[1;32mreturn\u001b[0m \u001b[0mself\u001b[0m\u001b[1;33m.\u001b[0m\u001b[0m_value\u001b[0m\u001b[1;33m\u001b[0m\u001b[0m\n\u001b[0;32m    607\u001b[0m         \u001b[1;32melse\u001b[0m\u001b[1;33m:\u001b[0m\u001b[1;33m\u001b[0m\u001b[0m\n\u001b[1;32m--> 608\u001b[1;33m             \u001b[1;32mraise\u001b[0m \u001b[0mself\u001b[0m\u001b[1;33m.\u001b[0m\u001b[0m_value\u001b[0m\u001b[1;33m\u001b[0m\u001b[0m\n\u001b[0m\u001b[0;32m    609\u001b[0m \u001b[1;33m\u001b[0m\u001b[0m\n\u001b[0;32m    610\u001b[0m     \u001b[1;32mdef\u001b[0m \u001b[0m_set\u001b[0m\u001b[1;33m(\u001b[0m\u001b[0mself\u001b[0m\u001b[1;33m,\u001b[0m \u001b[0mi\u001b[0m\u001b[1;33m,\u001b[0m \u001b[0mobj\u001b[0m\u001b[1;33m)\u001b[0m\u001b[1;33m:\u001b[0m\u001b[1;33m\u001b[0m\u001b[0m\n",
      "\u001b[1;31merror_perm\u001b[0m: 500 RT not understood"
     ]
    }
   ],
   "source": [
    "res = p.map(walk_dir, dirs)"
   ]
  },
  {
   "cell_type": "code",
   "execution_count": 22,
   "metadata": {
    "collapsed": false
   },
   "outputs": [
    {
     "data": {
      "text/plain": [
       "['GPL10nnn',\n",
       " 'GPL11nnn',\n",
       " 'GPL12nnn',\n",
       " 'GPL13nnn',\n",
       " 'GPL14nnn',\n",
       " 'GPL15nnn',\n",
       " 'GPL16nnn',\n",
       " 'GPL17nnn',\n",
       " 'GPL18nnn',\n",
       " 'GPL19nnn',\n",
       " 'GPL1nnn',\n",
       " 'GPL20nnn',\n",
       " 'GPL21nnn',\n",
       " 'GPL22nnn',\n",
       " 'GPL2nnn',\n",
       " 'GPL3nnn',\n",
       " 'GPL4nnn',\n",
       " 'GPL5nnn',\n",
       " 'GPL6nnn',\n",
       " 'GPL7nnn',\n",
       " 'GPL8nnn',\n",
       " 'GPL9nnn',\n",
       " 'GPLnnn']"
      ]
     },
     "execution_count": 22,
     "metadata": {},
     "output_type": "execute_result"
    }
   ],
   "source": [
    "dirs\n"
   ]
  },
  {
   "cell_type": "code",
   "execution_count": null,
   "metadata": {
    "collapsed": true
   },
   "outputs": [],
   "source": []
  }
 ],
 "metadata": {
  "kernelspec": {
   "display_name": "Python 3",
   "language": "python",
   "name": "python3"
  },
  "language_info": {
   "codemirror_mode": {
    "name": "ipython",
    "version": 3
   },
   "file_extension": ".py",
   "mimetype": "text/x-python",
   "name": "python",
   "nbconvert_exporter": "python",
   "pygments_lexer": "ipython3",
   "version": "3.5.1"
  }
 },
 "nbformat": 4,
 "nbformat_minor": 0
}
